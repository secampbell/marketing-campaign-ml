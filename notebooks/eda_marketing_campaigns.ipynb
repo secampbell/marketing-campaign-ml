{
  "cells": [
    {
      "cell_type": "code",
      "source": [
        "from pyspark.sql.functions import round\n",
        "\n",
        "df = df.withColumn(\"AI_score\", round(\"AI_score\", 2))\n",
        "df.select(\"AI_score\").show(5)\n"
      ],
      "outputs": [
        {
          "output_type": "display_data",
          "data": {
            "application/vnd.livy.statement-meta+json": {
              "spark_pool": "32f19003-d012-4b48-a552-35426b97d370",
              "statement_id": 12,
              "statement_ids": [
                12
              ],
              "state": "finished",
              "livy_statement_state": "available",
              "spark_jobs": {
                "numbers": {
                  "FAILED": 0,
                  "RUNNING": 0,
                  "UNKNOWN": 0,
                  "SUCCEEDED": 1
                },
                "jobs": [
                  {
                    "displayName": "showString at NativeMethodAccessorImpl.java:0",
                    "dataWritten": 0,
                    "dataRead": 12328,
                    "rowCount": 6,
                    "usageDescription": "",
                    "jobId": 10,
                    "name": "showString at NativeMethodAccessorImpl.java:0",
                    "description": "Job group for statement 12:\nfrom pyspark.sql.functions import round\n\ndf = df.withColumn(\"AI_score\", round(\"AI_score\", 2))\ndf.select(\"AI_score\").show(5)\n",
                    "submissionTime": "2025-07-18T18:52:15.142GMT",
                    "completionTime": "2025-07-18T18:52:15.461GMT",
                    "stageIds": [
                      12
                    ],
                    "jobGroup": "12",
                    "status": "SUCCEEDED",
                    "numTasks": 1,
                    "numActiveTasks": 0,
                    "numCompletedTasks": 1,
                    "numSkippedTasks": 0,
                    "numFailedTasks": 0,
                    "numKilledTasks": 0,
                    "numCompletedIndices": 1,
                    "numActiveStages": 0,
                    "numCompletedStages": 1,
                    "numSkippedStages": 0,
                    "numFailedStages": 0,
                    "killedTasksSummary": {}
                  }
                ],
                "limit": 20,
                "rule": "ALL_DESC"
              },
              "session_id": "0",
              "normalized_state": "finished",
              "queued_time": "2025-07-18T18:52:14.8384924Z",
              "session_start_time": null,
              "execution_start_time": "2025-07-18T18:52:14.8397797Z",
              "execution_finish_time": "2025-07-18T18:52:15.5890419Z",
              "parent_msg_id": "bf6d27f6-52b2-4c8b-9453-a5675cc5b2c2"
            },
            "text/plain": "StatementMeta(32f19003-d012-4b48-a552-35426b97d370, 0, 12, Finished, Available, Finished)"
          },
          "metadata": {}
        },
        {
          "output_type": "stream",
          "name": "stdout",
          "text": "+--------+\n|AI_score|\n+--------+\n|  225.62|\n|  136.96|\n|  200.21|\n|  263.53|\n|  246.39|\n+--------+\nonly showing top 5 rows\n\n"
        }
      ],
      "execution_count": 7,
      "metadata": {
        "gather": {
          "logged": 1752864735724
        }
      }
    },
    {
      "cell_type": "code",
      "source": [
        "from pyspark.sql.functions import to_date\n",
        "\n",
        "df = df.withColumn(\"launch_date\", to_date(\"launch_date\", \"M/d/yyyy\"))\n",
        "df.select(\"launch_date\").show(5)\n"
      ],
      "outputs": [
        {
          "output_type": "display_data",
          "data": {
            "application/vnd.livy.statement-meta+json": {
              "spark_pool": "32f19003-d012-4b48-a552-35426b97d370",
              "statement_id": 13,
              "statement_ids": [
                13
              ],
              "state": "finished",
              "livy_statement_state": "available",
              "spark_jobs": {
                "numbers": {
                  "FAILED": 0,
                  "RUNNING": 0,
                  "UNKNOWN": 0,
                  "SUCCEEDED": 1
                },
                "jobs": [
                  {
                    "displayName": "showString at NativeMethodAccessorImpl.java:0",
                    "dataWritten": 0,
                    "dataRead": 12328,
                    "rowCount": 6,
                    "usageDescription": "",
                    "jobId": 11,
                    "name": "showString at NativeMethodAccessorImpl.java:0",
                    "description": "Job group for statement 13:\nfrom pyspark.sql.functions import to_date\n\ndf = df.withColumn(\"launch_date\", to_date(\"launch_date\", \"M/d/yyyy\"))\ndf.select(\"launch_date\").show(5)\n",
                    "submissionTime": "2025-07-18T18:52:36.875GMT",
                    "completionTime": "2025-07-18T18:52:37.207GMT",
                    "stageIds": [
                      13
                    ],
                    "jobGroup": "13",
                    "status": "SUCCEEDED",
                    "numTasks": 1,
                    "numActiveTasks": 0,
                    "numCompletedTasks": 1,
                    "numSkippedTasks": 0,
                    "numFailedTasks": 0,
                    "numKilledTasks": 0,
                    "numCompletedIndices": 1,
                    "numActiveStages": 0,
                    "numCompletedStages": 1,
                    "numSkippedStages": 0,
                    "numFailedStages": 0,
                    "killedTasksSummary": {}
                  }
                ],
                "limit": 20,
                "rule": "ALL_DESC"
              },
              "session_id": "0",
              "normalized_state": "finished",
              "queued_time": "2025-07-18T18:52:36.5900897Z",
              "session_start_time": null,
              "execution_start_time": "2025-07-18T18:52:36.5913657Z",
              "execution_finish_time": "2025-07-18T18:52:37.3140266Z",
              "parent_msg_id": "0c37ddca-ecb8-4c05-aaa3-b641b60e6ff5"
            },
            "text/plain": "StatementMeta(32f19003-d012-4b48-a552-35426b97d370, 0, 13, Finished, Available, Finished)"
          },
          "metadata": {}
        },
        {
          "output_type": "stream",
          "name": "stdout",
          "text": "+-----------+\n|launch_date|\n+-----------+\n| 2022-11-11|\n| 2022-12-27|\n| 2023-01-10|\n| 2023-06-16|\n| 2023-08-26|\n+-----------+\nonly showing top 5 rows\n\n"
        }
      ],
      "execution_count": 8,
      "metadata": {
        "gather": {
          "logged": 1752864757436
        }
      }
    },
    {
      "cell_type": "code",
      "source": [
        "from pyspark.sql.functions import year, month\n",
        "\n",
        "df = df.withColumn(\"launch_year\", year(\"launch_date\")) \\\n",
        "       .withColumn(\"launch_month\", month(\"launch_date\"))\n",
        "\n",
        "df.select(\"launch_date\", \"launch_year\", \"launch_month\").show(5)\n"
      ],
      "outputs": [
        {
          "output_type": "display_data",
          "data": {
            "application/vnd.livy.statement-meta+json": {
              "spark_pool": "32f19003-d012-4b48-a552-35426b97d370",
              "statement_id": 14,
              "statement_ids": [
                14
              ],
              "state": "finished",
              "livy_statement_state": "available",
              "spark_jobs": {
                "numbers": {
                  "FAILED": 0,
                  "RUNNING": 0,
                  "UNKNOWN": 0,
                  "SUCCEEDED": 1
                },
                "jobs": [
                  {
                    "displayName": "showString at NativeMethodAccessorImpl.java:0",
                    "dataWritten": 0,
                    "dataRead": 12328,
                    "rowCount": 6,
                    "usageDescription": "",
                    "jobId": 12,
                    "name": "showString at NativeMethodAccessorImpl.java:0",
                    "description": "Job group for statement 14:\nfrom pyspark.sql.functions import year, month\n\ndf = df.withColumn(\"launch_year\", year(\"launch_date\"))        .withColumn(\"launch_month\", month(\"launch_date\"))\n\ndf.select(\"launch_date\", \"launch_year\", \"launch_month\").show(5)\n",
                    "submissionTime": "2025-07-18T18:53:11.349GMT",
                    "completionTime": "2025-07-18T18:53:11.590GMT",
                    "stageIds": [
                      14
                    ],
                    "jobGroup": "14",
                    "status": "SUCCEEDED",
                    "numTasks": 1,
                    "numActiveTasks": 0,
                    "numCompletedTasks": 1,
                    "numSkippedTasks": 0,
                    "numFailedTasks": 0,
                    "numKilledTasks": 0,
                    "numCompletedIndices": 1,
                    "numActiveStages": 0,
                    "numCompletedStages": 1,
                    "numSkippedStages": 0,
                    "numFailedStages": 0,
                    "killedTasksSummary": {}
                  }
                ],
                "limit": 20,
                "rule": "ALL_DESC"
              },
              "session_id": "0",
              "normalized_state": "finished",
              "queued_time": "2025-07-18T18:53:10.9906867Z",
              "session_start_time": null,
              "execution_start_time": "2025-07-18T18:53:10.991908Z",
              "execution_finish_time": "2025-07-18T18:53:11.6869233Z",
              "parent_msg_id": "e97e9743-1a74-47e5-a92e-9bdc35ffec1c"
            },
            "text/plain": "StatementMeta(32f19003-d012-4b48-a552-35426b97d370, 0, 14, Finished, Available, Finished)"
          },
          "metadata": {}
        },
        {
          "output_type": "stream",
          "name": "stdout",
          "text": "+-----------+-----------+------------+\n|launch_date|launch_year|launch_month|\n+-----------+-----------+------------+\n| 2022-11-11|       2022|          11|\n| 2022-12-27|       2022|          12|\n| 2023-01-10|       2023|           1|\n| 2023-06-16|       2023|           6|\n| 2023-08-26|       2023|           8|\n+-----------+-----------+------------+\nonly showing top 5 rows\n\n"
        }
      ],
      "execution_count": 9,
      "metadata": {
        "gather": {
          "logged": 1752864791807
        }
      }
    },
    {
      "cell_type": "code",
      "source": [
        "from pyspark.sql.functions import when\n",
        "\n",
        "df = df.withColumn(\"success_flag\", when(df[\"conversion_rate\"] >= 3.0, 1).otherwise(0))\n",
        "df.select(\"conversion_rate\", \"success_flag\").show(10)\n"
      ],
      "outputs": [
        {
          "output_type": "display_data",
          "data": {
            "application/vnd.livy.statement-meta+json": {
              "spark_pool": "32f19003-d012-4b48-a552-35426b97d370",
              "statement_id": 15,
              "statement_ids": [
                15
              ],
              "state": "finished",
              "livy_statement_state": "available",
              "spark_jobs": {
                "numbers": {
                  "FAILED": 0,
                  "RUNNING": 0,
                  "UNKNOWN": 0,
                  "SUCCEEDED": 1
                },
                "jobs": [
                  {
                    "displayName": "showString at NativeMethodAccessorImpl.java:0",
                    "dataWritten": 0,
                    "dataRead": 12328,
                    "rowCount": 11,
                    "usageDescription": "",
                    "jobId": 13,
                    "name": "showString at NativeMethodAccessorImpl.java:0",
                    "description": "Job group for statement 15:\nfrom pyspark.sql.functions import when\n\ndf = df.withColumn(\"success_flag\", when(df[\"conversion_rate\"] >= 3.0, 1).otherwise(0))\ndf.select(\"conversion_rate\", \"success_flag\").show(10)\n",
                    "submissionTime": "2025-07-18T18:57:50.828GMT",
                    "completionTime": "2025-07-18T18:57:51.111GMT",
                    "stageIds": [
                      15
                    ],
                    "jobGroup": "15",
                    "status": "SUCCEEDED",
                    "numTasks": 1,
                    "numActiveTasks": 0,
                    "numCompletedTasks": 1,
                    "numSkippedTasks": 0,
                    "numFailedTasks": 0,
                    "numKilledTasks": 0,
                    "numCompletedIndices": 1,
                    "numActiveStages": 0,
                    "numCompletedStages": 1,
                    "numSkippedStages": 0,
                    "numFailedStages": 0,
                    "killedTasksSummary": {}
                  }
                ],
                "limit": 20,
                "rule": "ALL_DESC"
              },
              "session_id": "0",
              "normalized_state": "finished",
              "queued_time": "2025-07-18T18:57:50.5264517Z",
              "session_start_time": null,
              "execution_start_time": "2025-07-18T18:57:50.5276421Z",
              "execution_finish_time": "2025-07-18T18:57:51.2381739Z",
              "parent_msg_id": "6ce78f46-cb24-4074-8f8a-ec1e3c7c58e3"
            },
            "text/plain": "StatementMeta(32f19003-d012-4b48-a552-35426b97d370, 0, 15, Finished, Available, Finished)"
          },
          "metadata": {}
        },
        {
          "output_type": "stream",
          "name": "stdout",
          "text": "+---------------+------------+\n|conversion_rate|success_flag|\n+---------------+------------+\n|          88.98|           1|\n|          88.04|           1|\n|          80.57|           1|\n|          87.67|           1|\n|          82.48|           1|\n|          88.49|           1|\n|          86.18|           1|\n|          87.06|           1|\n|          81.84|           1|\n|          89.36|           1|\n+---------------+------------+\nonly showing top 10 rows\n\n"
        }
      ],
      "execution_count": 10,
      "metadata": {
        "gather": {
          "logged": 1752865071386
        }
      }
    },
    {
      "cell_type": "code",
      "source": [
        "df.select(\"campaign_id\", \"conversion_rate\", \"success_flag\").show(df.count(), truncate=False)\n"
      ],
      "outputs": [
        {
          "output_type": "display_data",
          "data": {
            "application/vnd.livy.statement-meta+json": {
              "spark_pool": "32f19003-d012-4b48-a552-35426b97d370",
              "statement_id": 16,
              "statement_ids": [
                16
              ],
              "state": "finished",
              "livy_statement_state": "available",
              "spark_jobs": {
                "numbers": {
                  "FAILED": 0,
                  "RUNNING": 0,
                  "UNKNOWN": 0,
                  "SUCCEEDED": 3
                },
                "jobs": [
                  {
                    "displayName": "showString at NativeMethodAccessorImpl.java:0",
                    "dataWritten": 0,
                    "dataRead": 12328,
                    "rowCount": 74,
                    "usageDescription": "",
                    "jobId": 16,
                    "name": "showString at NativeMethodAccessorImpl.java:0",
                    "description": "Job group for statement 16:\ndf.select(\"campaign_id\", \"conversion_rate\", \"success_flag\").show(df.count(), truncate=False)\n",
                    "submissionTime": "2025-07-18T18:58:57.083GMT",
                    "completionTime": "2025-07-18T18:58:57.329GMT",
                    "stageIds": [
                      19
                    ],
                    "jobGroup": "16",
                    "status": "SUCCEEDED",
                    "numTasks": 1,
                    "numActiveTasks": 0,
                    "numCompletedTasks": 1,
                    "numSkippedTasks": 0,
                    "numFailedTasks": 0,
                    "numKilledTasks": 0,
                    "numCompletedIndices": 1,
                    "numActiveStages": 0,
                    "numCompletedStages": 1,
                    "numSkippedStages": 0,
                    "numFailedStages": 0,
                    "killedTasksSummary": {}
                  },
                  {
                    "displayName": "count at NativeMethodAccessorImpl.java:0",
                    "dataWritten": 0,
                    "dataRead": 59,
                    "rowCount": 1,
                    "usageDescription": "",
                    "jobId": 15,
                    "name": "count at NativeMethodAccessorImpl.java:0",
                    "description": "Job group for statement 16:\ndf.select(\"campaign_id\", \"conversion_rate\", \"success_flag\").show(df.count(), truncate=False)\n",
                    "submissionTime": "2025-07-18T18:58:56.638GMT",
                    "completionTime": "2025-07-18T18:58:56.755GMT",
                    "stageIds": [
                      17,
                      18
                    ],
                    "jobGroup": "16",
                    "status": "SUCCEEDED",
                    "numTasks": 2,
                    "numActiveTasks": 0,
                    "numCompletedTasks": 1,
                    "numSkippedTasks": 1,
                    "numFailedTasks": 0,
                    "numKilledTasks": 0,
                    "numCompletedIndices": 1,
                    "numActiveStages": 0,
                    "numCompletedStages": 1,
                    "numSkippedStages": 1,
                    "numFailedStages": 0,
                    "killedTasksSummary": {}
                  },
                  {
                    "displayName": "count at NativeMethodAccessorImpl.java:0",
                    "dataWritten": 59,
                    "dataRead": 12328,
                    "rowCount": 75,
                    "usageDescription": "",
                    "jobId": 14,
                    "name": "count at NativeMethodAccessorImpl.java:0",
                    "description": "Job group for statement 16:\ndf.select(\"campaign_id\", \"conversion_rate\", \"success_flag\").show(df.count(), truncate=False)\n",
                    "submissionTime": "2025-07-18T18:58:56.345GMT",
                    "completionTime": "2025-07-18T18:58:56.581GMT",
                    "stageIds": [
                      16
                    ],
                    "jobGroup": "16",
                    "status": "SUCCEEDED",
                    "numTasks": 1,
                    "numActiveTasks": 0,
                    "numCompletedTasks": 1,
                    "numSkippedTasks": 0,
                    "numFailedTasks": 0,
                    "numKilledTasks": 0,
                    "numCompletedIndices": 1,
                    "numActiveStages": 0,
                    "numCompletedStages": 1,
                    "numSkippedStages": 0,
                    "numFailedStages": 0,
                    "killedTasksSummary": {}
                  }
                ],
                "limit": 20,
                "rule": "ALL_DESC"
              },
              "session_id": "0",
              "normalized_state": "finished",
              "queued_time": "2025-07-18T18:58:56.0614509Z",
              "session_start_time": null,
              "execution_start_time": "2025-07-18T18:58:56.0626898Z",
              "execution_finish_time": "2025-07-18T18:58:58.2447433Z",
              "parent_msg_id": "90096cd5-34fc-45d4-89fd-819452ba2c83"
            },
            "text/plain": "StatementMeta(32f19003-d012-4b48-a552-35426b97d370, 0, 16, Finished, Available, Finished)"
          },
          "metadata": {}
        },
        {
          "output_type": "stream",
          "name": "stdout",
          "text": "+------------------------------------+---------------+------------+\n|campaign_id                         |conversion_rate|success_flag|\n+------------------------------------+---------------+------------+\n|d856ca23-a6e7-4ae6-b0b7-479433361273|88.98          |1           |\n|cabe9725-0225-4b06-9225-c1be87021a4e|88.04          |1           |\n|b26a281e-bfb3-4c1a-9454-48325c4bc53f|80.57          |1           |\n|208743bf-3dcd-44e1-98c8-a799c39fc75e|87.67          |1           |\n|2f6a9040-e2a3-41d7-897d-4fecb0fd3ff3|82.48          |1           |\n|19dfe747-9024-4c59-aa6a-63581a4b9085|88.49          |1           |\n|0d61e8cc-732f-4b88-a051-a8b35d2d1aa0|86.18          |1           |\n|58b43b0b-7bc2-4abe-8984-435b9402e1ba|87.06          |1           |\n|f9e56b93-420c-4491-8bdc-1c13d2ff5acd|81.84          |1           |\n|d5910bfa-ebcb-4211-a794-d181386df55d|89.36          |1           |\n|9228a0fa-4e17-4c8b-ad6f-29dd55b1bc19|86.87          |1           |\n|1ff66224-13da-4d91-b46c-b0f46f7b986a|83.91          |1           |\n|f574eb74-3ce0-421f-bc11-086ddc2c23d6|84.13          |1           |\n|6b50db80-d60d-447d-8783-f7d5c84e4041|80.58          |1           |\n|e5ef5ca1-3cef-4b97-9491-b4053adeee64|89.11          |1           |\n|ac8eddaf-cdc4-46fe-8bce-24413666a340|89.18          |1           |\n|d6b9cae3-ec7e-4d63-a551-4112fe6952c2|88.33          |1           |\n|9c3244de-c3d5-4fc8-bb49-a4acff4308c3|82.83          |1           |\n|3e790c60-d343-4985-8686-e677c4867310|89.88          |1           |\n|c2d1b80a-bf83-4e16-bbb9-795005ca8363|86.83          |1           |\n|fa941a1d-2f35-4598-9840-375893e901db|88.91          |1           |\n|3f26532d-ece9-4a70-b3bd-d83778ab41e5|81.4           |1           |\n|6d1f03ee-8d5f-4764-944a-f675fe64bd8b|83.07          |1           |\n|789f6267-36e2-4f7f-a83b-2473a2ab3828|81.0           |1           |\n|10b05abc-c2bd-40e6-8167-c98e6601659c|88.36          |1           |\n|a7b333b4-17ce-4c09-ac02-f14bfd224b79|86.99          |1           |\n|615c2b50-8e4c-4757-8edf-0b1977e45aa2|87.98          |1           |\n|7d981317-da02-49f4-ab6e-154297c3ed6f|81.62          |1           |\n|360c0500-c8bd-4773-8499-17b740f1ef7d|83.46          |1           |\n|fa9af8b3-b81e-4a9c-a3f8-789137f642b0|85.45          |1           |\n|ee9b561a-724d-4f80-806e-984ed3dbe106|85.44          |1           |\n|5b4bd09d-3ea0-43e3-9de6-a03cfffa095f|84.55          |1           |\n|5e3cbf16-edc7-4bf6-88e5-b943c74aa7e5|87.54          |1           |\n|2b4fe6aa-2782-41c0-8cdd-4e37b22e7a48|88.16          |1           |\n|4b82941f-f0e9-49ed-8bef-069db3a9149b|87.43          |1           |\n|4f08efe8-07ab-430c-96fb-a69404f732a2|86.34          |1           |\n|1f1b9771-86d0-4794-9514-e1ccccf74355|88.7           |1           |\n|635f22a6-6595-4972-8030-b1e21cc4f03e|82.68          |1           |\n|b71e68f8-7a59-43ae-ab95-4e19a512ff81|81.35          |1           |\n|9df5526b-2e0c-4832-b9cf-298d5961e36c|82.49          |1           |\n|31b90b31-fbab-46f9-8910-16722c97e8c6|80.83          |1           |\n|5d61580a-e94c-4dc0-8fc0-8d61f4755c61|89.58          |1           |\n|bb80f390-7b5c-4b81-b0c5-df52ce70578a|89.33          |1           |\n|52ae2956-ae4e-4210-8eb3-329cc0ce7505|86.14          |1           |\n|d6980606-40ff-42e6-afaa-b439ebae2ffc|85.47          |1           |\n|2d7f86f5-b838-4755-b39d-e9c2ac7ef1cc|80.77          |1           |\n|98abfbd0-3f9e-46e6-b552-f68a161ec23b|84.67          |1           |\n|89e39343-9b1b-469a-a991-0434551b31e7|89.83          |1           |\n|486c7d47-541c-4e48-adfb-e878cc4c475f|83.54          |1           |\n|11642e13-94e5-4a08-a029-cfb81b092fe6|86.58          |1           |\n|950f9190-813b-473a-ad87-39f9a975bf70|84.06          |1           |\n|da85b70b-3eb9-4b1d-9f1b-82c61396bbeb|85.07          |1           |\n|72e8bbf8-9831-4b99-956f-d26434a9fa74|81.1           |1           |\n|4a06b14e-c0e7-470c-aea7-f7c5bcc20ec7|85.14          |1           |\n|688086dc-1ad1-4daa-ac5d-91189d7d607d|89.6           |1           |\n|578e672f-a01b-49d3-bb82-572530afe4ff|85.74          |1           |\n|5ab0b76a-264c-4b71-ab06-1e48f9528fa8|80.37          |1           |\n|8e1b8d1a-43db-47c0-93c4-f5d2f94474db|89.54          |1           |\n|770368e3-b4e3-4c4d-b80c-35efddb9e02a|84.53          |1           |\n|ca825886-03ad-4498-91e0-59daf9163aa5|81.97          |1           |\n|f6d9bb74-a8cf-42f2-8ca2-f9abcaec8dc6|83.51          |1           |\n|b5236fc6-3eb5-41c1-971c-d1010165e411|84.06          |1           |\n|a3ec4931-ec1f-49ff-9196-439ec213e0a9|87.77          |1           |\n|c00b12d5-6e80-4b01-b862-6cac99420f4d|86.55          |1           |\n|95132475-e80c-4fd0-b025-ab24bd7e23e2|89.14          |1           |\n|bf1d41f8-5ec4-4501-a42f-0edb5b914ff1|85.53          |1           |\n|507ea8ac-9584-4c68-8a7e-05f119476b07|81.83          |1           |\n|aa69b89d-1ec4-430a-9404-371aef5a7da2|82.53          |1           |\n|b480bb77-6d65-48d1-804e-693329203323|80.39          |1           |\n|bdaa6a3d-3e59-4b39-b7a0-9434bbeaf10b|87.65          |1           |\n|341ee3a1-e16e-4404-9872-33d52e6b9545|86.8           |1           |\n|5cbc6488-0808-4f8a-9eb1-165055fdc52c|83.4           |1           |\n|35d2cfce-c258-4362-a4bb-010cfe6884c5|88.58          |1           |\n|551d94db-5e67-4d90-b0d9-8ce255fa8786|85.74          |1           |\n+------------------------------------+---------------+------------+\n\n"
        }
      ],
      "execution_count": 11,
      "metadata": {
        "gather": {
          "logged": 1752865138374
        }
      }
    },
    {
      "cell_type": "code",
      "source": [
        "df.select(\"conversion_rate\").describe().show()\n"
      ],
      "outputs": [
        {
          "output_type": "display_data",
          "data": {
            "application/vnd.livy.statement-meta+json": {
              "spark_pool": "32f19003-d012-4b48-a552-35426b97d370",
              "statement_id": 17,
              "statement_ids": [
                17
              ],
              "state": "finished",
              "livy_statement_state": "available",
              "spark_jobs": {
                "numbers": {
                  "FAILED": 0,
                  "RUNNING": 0,
                  "UNKNOWN": 0,
                  "SUCCEEDED": 2
                },
                "jobs": [
                  {
                    "displayName": "describe at NativeMethodAccessorImpl.java:0",
                    "dataWritten": 0,
                    "dataRead": 105,
                    "rowCount": 1,
                    "usageDescription": "",
                    "jobId": 18,
                    "name": "describe at NativeMethodAccessorImpl.java:0",
                    "description": "Job group for statement 17:\ndf.select(\"conversion_rate\").describe().show()\n",
                    "submissionTime": "2025-07-18T18:59:52.303GMT",
                    "completionTime": "2025-07-18T18:59:52.645GMT",
                    "stageIds": [
                      21,
                      22
                    ],
                    "jobGroup": "17",
                    "status": "SUCCEEDED",
                    "numTasks": 2,
                    "numActiveTasks": 0,
                    "numCompletedTasks": 1,
                    "numSkippedTasks": 1,
                    "numFailedTasks": 0,
                    "numKilledTasks": 0,
                    "numCompletedIndices": 1,
                    "numActiveStages": 0,
                    "numCompletedStages": 1,
                    "numSkippedStages": 1,
                    "numFailedStages": 0,
                    "killedTasksSummary": {}
                  },
                  {
                    "displayName": "describe at NativeMethodAccessorImpl.java:0",
                    "dataWritten": 105,
                    "dataRead": 12328,
                    "rowCount": 75,
                    "usageDescription": "",
                    "jobId": 17,
                    "name": "describe at NativeMethodAccessorImpl.java:0",
                    "description": "Job group for statement 17:\ndf.select(\"conversion_rate\").describe().show()\n",
                    "submissionTime": "2025-07-18T18:59:51.752GMT",
                    "completionTime": "2025-07-18T18:59:52.065GMT",
                    "stageIds": [
                      20
                    ],
                    "jobGroup": "17",
                    "status": "SUCCEEDED",
                    "numTasks": 1,
                    "numActiveTasks": 0,
                    "numCompletedTasks": 1,
                    "numSkippedTasks": 0,
                    "numFailedTasks": 0,
                    "numKilledTasks": 0,
                    "numCompletedIndices": 1,
                    "numActiveStages": 0,
                    "numCompletedStages": 1,
                    "numSkippedStages": 0,
                    "numFailedStages": 0,
                    "killedTasksSummary": {}
                  }
                ],
                "limit": 20,
                "rule": "ALL_DESC"
              },
              "session_id": "0",
              "normalized_state": "finished",
              "queued_time": "2025-07-18T18:59:51.42166Z",
              "session_start_time": null,
              "execution_start_time": "2025-07-18T18:59:51.4229379Z",
              "execution_finish_time": "2025-07-18T18:59:52.7951487Z",
              "parent_msg_id": "bf3ec414-1eb0-45ae-a917-37485d45a674"
            },
            "text/plain": "StatementMeta(32f19003-d012-4b48-a552-35426b97d370, 0, 17, Finished, Available, Finished)"
          },
          "metadata": {}
        },
        {
          "output_type": "stream",
          "name": "stdout",
          "text": "+-------+-----------------+\n|summary|  conversion_rate|\n+-------+-----------------+\n|  count|               74|\n|   mean|85.44027027027028|\n| stddev| 2.93851419587825|\n|    min|            80.37|\n|    max|            89.88|\n+-------+-----------------+\n\n"
        }
      ],
      "execution_count": 12,
      "metadata": {
        "gather": {
          "logged": 1752865192920
        }
      }
    },
    {
      "cell_type": "code",
      "source": [
        "df.write.mode(\"overwrite\").option(\"header\", \"true\").csv(\"azureml://datastores/workspaceblobstore/paths/automl_marketing_df_csv/\")\n"
      ],
      "outputs": [
        {
          "output_type": "display_data",
          "data": {
            "application/vnd.livy.statement-meta+json": {
              "spark_pool": "32f19003-d012-4b48-a552-35426b97d370",
              "statement_id": 18,
              "statement_ids": [
                18
              ],
              "state": "finished",
              "livy_statement_state": "available",
              "spark_jobs": {
                "numbers": {
                  "FAILED": 0,
                  "RUNNING": 0,
                  "UNKNOWN": 0,
                  "SUCCEEDED": 1
                },
                "jobs": [
                  {
                    "displayName": "csv at NativeMethodAccessorImpl.java:0",
                    "dataWritten": 12506,
                    "dataRead": 12328,
                    "rowCount": 148,
                    "usageDescription": "",
                    "jobId": 19,
                    "name": "csv at NativeMethodAccessorImpl.java:0",
                    "description": "Job group for statement 18:\ndf.write.mode(\"overwrite\").option(\"header\", \"true\").csv(\"azureml://datastores/workspaceblobstore/paths/automl_marketing_df_csv/\")\n",
                    "submissionTime": "2025-07-18T19:07:06.966GMT",
                    "completionTime": "2025-07-18T19:07:09.096GMT",
                    "stageIds": [
                      23
                    ],
                    "jobGroup": "18",
                    "status": "SUCCEEDED",
                    "numTasks": 1,
                    "numActiveTasks": 0,
                    "numCompletedTasks": 1,
                    "numSkippedTasks": 0,
                    "numFailedTasks": 0,
                    "numKilledTasks": 0,
                    "numCompletedIndices": 1,
                    "numActiveStages": 0,
                    "numCompletedStages": 1,
                    "numSkippedStages": 0,
                    "numFailedStages": 0,
                    "killedTasksSummary": {}
                  }
                ],
                "limit": 20,
                "rule": "ALL_DESC"
              },
              "session_id": "0",
              "normalized_state": "finished",
              "queued_time": "2025-07-18T19:07:05.2901501Z",
              "session_start_time": null,
              "execution_start_time": "2025-07-18T19:07:05.2912255Z",
              "execution_finish_time": "2025-07-18T19:07:09.6583903Z",
              "parent_msg_id": "c549185b-fa12-46d1-8764-04808744a484"
            },
            "text/plain": "StatementMeta(32f19003-d012-4b48-a552-35426b97d370, 0, 18, Finished, Available, Finished)"
          },
          "metadata": {}
        }
      ],
      "execution_count": 13,
      "metadata": {
        "gather": {
          "logged": 1752865629785
        }
      }
    }
  ],
  "metadata": {
    "kernelspec": {
      "name": "synapse_pyspark",
      "language": "Python",
      "display_name": "Synapse PySpark"
    },
    "language_info": {
      "name": "python",
      "version": "3.8.0",
      "mimetype": "text/x-python",
      "file_extension": ".py",
      "pygments_lexer": "ipython",
      "codemirror_mode": "ipython",
      "nbconvert_exporter": "python"
    },
    "microsoft": {
      "ms_spell_check": {
        "ms_spell_check_language": "en"
      },
      "host": {
        "AzureML": {
          "notebookHasBeenCompleted": true
        }
      }
    },
    "kernel_info": {
      "name": "synapse_pyspark"
    },
    "nteract": {
      "version": "nteract-front-end@1.0.0"
    }
  },
  "nbformat": 4,
  "nbformat_minor": 2
}